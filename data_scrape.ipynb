{
 "cells": [
  {
   "cell_type": "code",
   "execution_count": 1,
   "id": "f064f84b-d029-4492-921f-5561e16b21cf",
   "metadata": {},
   "outputs": [
    {
     "data": {
      "text/plain": [
       "<module 'src.data_collection' from 'C:\\\\Users\\\\nicoh\\\\OneDrive\\\\Dokumente\\\\nba-game-classification\\\\src\\\\data_collection.py'>"
      ]
     },
     "execution_count": 1,
     "metadata": {},
     "output_type": "execute_result"
    }
   ],
   "source": [
    "import importlib\n",
    "import os\n",
    "import numpy as np\n",
    "import polars as pl\n",
    "from src import data_collection\n",
    "from tqdm import tqdm\n",
    "from datetime import date, timedelta\n",
    "importlib.reload(data_collection)"
   ]
  },
  {
   "cell_type": "code",
   "execution_count": 2,
   "id": "6f1e9271-1ed1-4663-aeed-cdc48ee04107",
   "metadata": {},
   "outputs": [],
   "source": [
    "files = os.listdir(\"data\")\n",
    "schedule_files = [file for file in files if file.startswith(\"schedule\")]\n",
    "latest_schedule_file = max(schedule_files, key=lambda x: int(x.split('_')[-1].split('.')[0]))\n",
    "q = pl.scan_parquet(\n",
    "    os.path.join(\"data\", latest_schedule_file)\n",
    ").select(pl.col(\"date\")).max()\n",
    "newest_date = q.collect()[\"date\"][0]"
   ]
  },
  {
   "cell_type": "code",
   "execution_count": 5,
   "id": "758900fc-3b47-4a52-acbb-3b1a3403f6d1",
   "metadata": {},
   "outputs": [
    {
     "data": {
      "text/html": [
       "<div><style>\n",
       ".dataframe > thead > tr,\n",
       ".dataframe > tbody > tr {\n",
       "  text-align: right;\n",
       "  white-space: pre-wrap;\n",
       "}\n",
       "</style>\n",
       "<small>shape: (634, 249)</small><table border=\"1\" class=\"dataframe\"><thead><tr><th>minutes_home</th><th>fieldGoalsMade_home</th><th>fieldGoalsAttempted_home</th><th>fieldGoalsPercentage_home</th><th>threePointersMade_home</th><th>threePointersAttempted_home</th><th>threePointersPercentage_home</th><th>freeThrowsMade_home</th><th>freeThrowsAttempted_home</th><th>freeThrowsPercentage_home</th><th>reboundsOffensive_home</th><th>reboundsDefensive_home</th><th>reboundsTotal_home</th><th>assists_home</th><th>steals_home</th><th>blocks_home</th><th>turnovers_home</th><th>foulsPersonal_home</th><th>points_home</th><th>plusMinusPoints_home</th><th>minutes_away</th><th>fieldGoalsMade_away</th><th>fieldGoalsAttempted_away</th><th>fieldGoalsPercentage_away</th><th>threePointersMade_away</th><th>threePointersAttempted_away</th><th>threePointersPercentage_away</th><th>freeThrowsMade_away</th><th>freeThrowsAttempted_away</th><th>freeThrowsPercentage_away</th><th>reboundsOffensive_away</th><th>reboundsDefensive_away</th><th>reboundsTotal_away</th><th>assists_away</th><th>steals_away</th><th>blocks_away</th><th>turnovers_away</th><th>&hellip;</th><th>percentageAssistedFGM_away</th><th>percentageUnassistedFGM_away</th><th>percentageFieldGoalsMade_home</th><th>percentageFieldGoalsAttempted_home</th><th>percentageThreePointersMade_home</th><th>percentageThreePointersAttempted_home</th><th>percentageFreeThrowsMade_home</th><th>percentageFreeThrowsAttempted_home</th><th>percentageReboundsOffensive_home</th><th>percentageReboundsDefensive_home</th><th>percentageReboundsTotal_home</th><th>percentageAssists_home</th><th>percentageTurnovers_home</th><th>percentageSteals_home</th><th>percentageBlocks_home</th><th>percentageBlocksAllowed_home</th><th>percentagePersonalFouls_home</th><th>percentagePersonalFoulsDrawn_home</th><th>percentagePoints_home</th><th>percentageFieldGoalsMade_away</th><th>percentageFieldGoalsAttempted_away</th><th>percentageThreePointersMade_away</th><th>percentageThreePointersAttempted_away</th><th>percentageFreeThrowsMade_away</th><th>percentageFreeThrowsAttempted_away</th><th>percentageReboundsOffensive_away</th><th>percentageReboundsDefensive_away</th><th>percentageReboundsTotal_away</th><th>percentageAssists_away</th><th>percentageTurnovers_away</th><th>percentageSteals_away</th><th>percentageBlocks_away</th><th>percentageBlocksAllowed_away</th><th>percentagePersonalFouls_away</th><th>percentagePersonalFoulsDrawn_away</th><th>percentagePoints_away</th><th>game_id</th></tr><tr><td>str</td><td>i64</td><td>i64</td><td>f64</td><td>i64</td><td>i64</td><td>f64</td><td>i64</td><td>i64</td><td>f64</td><td>i64</td><td>i64</td><td>i64</td><td>i64</td><td>i64</td><td>i64</td><td>i64</td><td>i64</td><td>i64</td><td>f64</td><td>str</td><td>i64</td><td>i64</td><td>f64</td><td>i64</td><td>i64</td><td>f64</td><td>i64</td><td>i64</td><td>f64</td><td>i64</td><td>i64</td><td>i64</td><td>i64</td><td>i64</td><td>i64</td><td>i64</td><td>&hellip;</td><td>f64</td><td>f64</td><td>f64</td><td>f64</td><td>f64</td><td>f64</td><td>f64</td><td>f64</td><td>f64</td><td>f64</td><td>f64</td><td>f64</td><td>f64</td><td>f64</td><td>f64</td><td>f64</td><td>f64</td><td>f64</td><td>f64</td><td>f64</td><td>f64</td><td>f64</td><td>f64</td><td>f64</td><td>f64</td><td>f64</td><td>f64</td><td>f64</td><td>f64</td><td>f64</td><td>f64</td><td>f64</td><td>f64</td><td>f64</td><td>f64</td><td>f64</td><td>str</td></tr></thead><tbody><tr><td>&quot;240:00&quot;</td><td>48</td><td>95</td><td>0.505</td><td>29</td><td>61</td><td>0.475</td><td>7</td><td>8</td><td>0.875</td><td>11</td><td>29</td><td>40</td><td>33</td><td>6</td><td>3</td><td>3</td><td>15</td><td>132</td><td>23.0</td><td>&quot;240:00&quot;</td><td>43</td><td>78</td><td>0.551</td><td>11</td><td>30</td><td>0.367</td><td>12</td><td>16</td><td>0.75</td><td>5</td><td>29</td><td>34</td><td>20</td><td>2</td><td>3</td><td>11</td><td>&hellip;</td><td>0.465</td><td>0.535</td><td>1.0</td><td>1.0</td><td>1.0</td><td>1.0</td><td>1.0</td><td>1.0</td><td>1.0</td><td>1.0</td><td>1.0</td><td>1.0</td><td>1.0</td><td>1.0</td><td>1.0</td><td>1.0</td><td>1.0</td><td>1.0</td><td>1.0</td><td>1.0</td><td>1.0</td><td>1.0</td><td>1.0</td><td>1.0</td><td>1.0</td><td>1.0</td><td>1.0</td><td>1.0</td><td>1.0</td><td>1.0</td><td>1.0</td><td>1.0</td><td>1.0</td><td>1.0</td><td>1.0</td><td>1.0</td><td>&quot;0022400061&quot;</td></tr><tr><td>&quot;240:00&quot;</td><td>42</td><td>95</td><td>0.442</td><td>5</td><td>30</td><td>0.167</td><td>21</td><td>25</td><td>0.84</td><td>15</td><td>31</td><td>46</td><td>22</td><td>7</td><td>8</td><td>7</td><td>22</td><td>110</td><td>7.0</td><td>&quot;240:00&quot;</td><td>35</td><td>85</td><td>0.412</td><td>13</td><td>41</td><td>0.317</td><td>20</td><td>27</td><td>0.741</td><td>12</td><td>35</td><td>47</td><td>17</td><td>4</td><td>1</td><td>15</td><td>&hellip;</td><td>0.486</td><td>0.514</td><td>1.0</td><td>1.0</td><td>1.0</td><td>1.0</td><td>1.0</td><td>1.0</td><td>1.0</td><td>1.0</td><td>1.0</td><td>1.0</td><td>1.0</td><td>1.0</td><td>1.0</td><td>1.0</td><td>1.0</td><td>1.0</td><td>1.0</td><td>1.0</td><td>1.0</td><td>1.0</td><td>1.0</td><td>1.0</td><td>1.0</td><td>1.0</td><td>1.0</td><td>1.0</td><td>1.0</td><td>1.0</td><td>1.0</td><td>1.0</td><td>1.0</td><td>1.0</td><td>1.0</td><td>1.0</td><td>&quot;0022400062&quot;</td></tr><tr><td>&quot;240:00&quot;</td><td>38</td><td>88</td><td>0.432</td><td>9</td><td>33</td><td>0.273</td><td>24</td><td>28</td><td>0.857</td><td>12</td><td>26</td><td>38</td><td>22</td><td>6</td><td>2</td><td>12</td><td>21</td><td>109</td><td>-6.0</td><td>&quot;240:00&quot;</td><td>42</td><td>83</td><td>0.506</td><td>9</td><td>31</td><td>0.29</td><td>22</td><td>25</td><td>0.88</td><td>7</td><td>32</td><td>39</td><td>32</td><td>10</td><td>8</td><td>15</td><td>&hellip;</td><td>0.762</td><td>0.238</td><td>1.0</td><td>1.0</td><td>1.0</td><td>1.0</td><td>1.0</td><td>1.0</td><td>1.0</td><td>1.0</td><td>1.0</td><td>1.0</td><td>1.0</td><td>1.0</td><td>1.0</td><td>1.0</td><td>1.0</td><td>1.0</td><td>1.0</td><td>1.0</td><td>1.0</td><td>1.0</td><td>1.0</td><td>1.0</td><td>1.0</td><td>1.0</td><td>1.0</td><td>1.0</td><td>1.0</td><td>1.0</td><td>1.0</td><td>1.0</td><td>1.0</td><td>1.0</td><td>1.0</td><td>1.0</td><td>&quot;0022400063&quot;</td></tr><tr><td>&quot;240:00&quot;</td><td>39</td><td>80</td><td>0.487</td><td>9</td><td>28</td><td>0.321</td><td>33</td><td>46</td><td>0.717</td><td>12</td><td>33</td><td>45</td><td>25</td><td>12</td><td>9</td><td>16</td><td>20</td><td>120</td><td>4.0</td><td>&quot;240:00&quot;</td><td>40</td><td>91</td><td>0.44</td><td>17</td><td>43</td><td>0.395</td><td>19</td><td>25</td><td>0.76</td><td>12</td><td>31</td><td>43</td><td>21</td><td>8</td><td>6</td><td>17</td><td>&hellip;</td><td>0.525</td><td>0.475</td><td>1.0</td><td>1.0</td><td>1.0</td><td>1.0</td><td>1.0</td><td>1.0</td><td>1.0</td><td>1.0</td><td>1.0</td><td>1.0</td><td>1.0</td><td>1.0</td><td>1.0</td><td>1.0</td><td>1.0</td><td>1.0</td><td>1.0</td><td>1.0</td><td>1.0</td><td>1.0</td><td>1.0</td><td>1.0</td><td>1.0</td><td>1.0</td><td>1.0</td><td>1.0</td><td>1.0</td><td>1.0</td><td>1.0</td><td>1.0</td><td>1.0</td><td>1.0</td><td>1.0</td><td>1.0</td><td>&quot;0022400064&quot;</td></tr><tr><td>&quot;240:00&quot;</td><td>32</td><td>82</td><td>0.39</td><td>11</td><td>34</td><td>0.324</td><td>22</td><td>29</td><td>0.759</td><td>9</td><td>32</td><td>41</td><td>24</td><td>5</td><td>8</td><td>11</td><td>19</td><td>97</td><td>-19.0</td><td>&quot;240:00&quot;</td><td>41</td><td>96</td><td>0.427</td><td>18</td><td>49</td><td>0.367</td><td>16</td><td>22</td><td>0.727</td><td>18</td><td>39</td><td>57</td><td>28</td><td>8</td><td>8</td><td>11</td><td>&hellip;</td><td>0.683</td><td>0.317</td><td>1.0</td><td>1.0</td><td>1.0</td><td>1.0</td><td>1.0</td><td>1.0</td><td>1.0</td><td>1.0</td><td>1.0</td><td>1.0</td><td>1.0</td><td>1.0</td><td>1.0</td><td>1.0</td><td>1.0</td><td>1.0</td><td>1.0</td><td>1.0</td><td>1.0</td><td>1.0</td><td>1.0</td><td>1.0</td><td>1.0</td><td>1.0</td><td>1.0</td><td>1.0</td><td>1.0</td><td>1.0</td><td>1.0</td><td>1.0</td><td>1.0</td><td>1.0</td><td>1.0</td><td>1.0</td><td>&quot;0022400065&quot;</td></tr><tr><td>&hellip;</td><td>&hellip;</td><td>&hellip;</td><td>&hellip;</td><td>&hellip;</td><td>&hellip;</td><td>&hellip;</td><td>&hellip;</td><td>&hellip;</td><td>&hellip;</td><td>&hellip;</td><td>&hellip;</td><td>&hellip;</td><td>&hellip;</td><td>&hellip;</td><td>&hellip;</td><td>&hellip;</td><td>&hellip;</td><td>&hellip;</td><td>&hellip;</td><td>&hellip;</td><td>&hellip;</td><td>&hellip;</td><td>&hellip;</td><td>&hellip;</td><td>&hellip;</td><td>&hellip;</td><td>&hellip;</td><td>&hellip;</td><td>&hellip;</td><td>&hellip;</td><td>&hellip;</td><td>&hellip;</td><td>&hellip;</td><td>&hellip;</td><td>&hellip;</td><td>&hellip;</td><td>&hellip;</td><td>&hellip;</td><td>&hellip;</td><td>&hellip;</td><td>&hellip;</td><td>&hellip;</td><td>&hellip;</td><td>&hellip;</td><td>&hellip;</td><td>&hellip;</td><td>&hellip;</td><td>&hellip;</td><td>&hellip;</td><td>&hellip;</td><td>&hellip;</td><td>&hellip;</td><td>&hellip;</td><td>&hellip;</td><td>&hellip;</td><td>&hellip;</td><td>&hellip;</td><td>&hellip;</td><td>&hellip;</td><td>&hellip;</td><td>&hellip;</td><td>&hellip;</td><td>&hellip;</td><td>&hellip;</td><td>&hellip;</td><td>&hellip;</td><td>&hellip;</td><td>&hellip;</td><td>&hellip;</td><td>&hellip;</td><td>&hellip;</td><td>&hellip;</td><td>&hellip;</td><td>&hellip;</td></tr><tr><td>&quot;240:00&quot;</td><td>43</td><td>87</td><td>0.494</td><td>14</td><td>37</td><td>0.378</td><td>23</td><td>30</td><td>0.767</td><td>7</td><td>41</td><td>48</td><td>31</td><td>2</td><td>3</td><td>6</td><td>16</td><td>123</td><td>14.0</td><td>&quot;240:00&quot;</td><td>39</td><td>86</td><td>0.453</td><td>16</td><td>45</td><td>0.356</td><td>15</td><td>22</td><td>0.682</td><td>5</td><td>33</td><td>38</td><td>26</td><td>4</td><td>4</td><td>7</td><td>&hellip;</td><td>0.667</td><td>0.333</td><td>1.0</td><td>1.0</td><td>1.0</td><td>1.0</td><td>1.0</td><td>1.0</td><td>1.0</td><td>1.0</td><td>1.0</td><td>1.0</td><td>1.0</td><td>1.0</td><td>1.0</td><td>1.0</td><td>1.0</td><td>1.0</td><td>1.0</td><td>1.0</td><td>1.0</td><td>1.0</td><td>1.0</td><td>1.0</td><td>1.0</td><td>1.0</td><td>1.0</td><td>1.0</td><td>1.0</td><td>1.0</td><td>1.0</td><td>1.0</td><td>1.0</td><td>1.0</td><td>1.0</td><td>1.0</td><td>&quot;0022400594&quot;</td></tr><tr><td>&quot;240:00&quot;</td><td>38</td><td>102</td><td>0.373</td><td>12</td><td>41</td><td>0.293</td><td>12</td><td>16</td><td>0.75</td><td>16</td><td>23</td><td>39</td><td>30</td><td>15</td><td>6</td><td>7</td><td>19</td><td>100</td><td>-13.0</td><td>&quot;240:00&quot;</td><td>40</td><td>77</td><td>0.519</td><td>7</td><td>25</td><td>0.28</td><td>26</td><td>31</td><td>0.839</td><td>13</td><td>44</td><td>57</td><td>24</td><td>6</td><td>8</td><td>20</td><td>&hellip;</td><td>0.6</td><td>0.4</td><td>1.0</td><td>1.0</td><td>1.0</td><td>1.0</td><td>1.0</td><td>1.0</td><td>1.0</td><td>1.0</td><td>1.0</td><td>1.0</td><td>1.0</td><td>1.0</td><td>1.0</td><td>1.0</td><td>1.0</td><td>1.0</td><td>1.0</td><td>1.0</td><td>1.0</td><td>1.0</td><td>1.0</td><td>1.0</td><td>1.0</td><td>1.0</td><td>1.0</td><td>1.0</td><td>1.0</td><td>1.0</td><td>1.0</td><td>1.0</td><td>1.0</td><td>1.0</td><td>1.0</td><td>1.0</td><td>&quot;0022400593&quot;</td></tr><tr><td>&quot;240:00&quot;</td><td>46</td><td>95</td><td>0.484</td><td>12</td><td>39</td><td>0.308</td><td>19</td><td>24</td><td>0.792</td><td>10</td><td>41</td><td>51</td><td>28</td><td>12</td><td>4</td><td>11</td><td>20</td><td>123</td><td>23.0</td><td>&quot;240:00&quot;</td><td>32</td><td>89</td><td>0.36</td><td>10</td><td>42</td><td>0.238</td><td>26</td><td>32</td><td>0.813</td><td>10</td><td>36</td><td>46</td><td>19</td><td>6</td><td>1</td><td>16</td><td>&hellip;</td><td>0.594</td><td>0.406</td><td>1.0</td><td>1.0</td><td>1.0</td><td>1.0</td><td>1.0</td><td>1.0</td><td>1.0</td><td>1.0</td><td>1.0</td><td>1.0</td><td>1.0</td><td>1.0</td><td>1.0</td><td>1.0</td><td>1.0</td><td>1.0</td><td>1.0</td><td>1.0</td><td>1.0</td><td>1.0</td><td>1.0</td><td>1.0</td><td>1.0</td><td>1.0</td><td>1.0</td><td>1.0</td><td>1.0</td><td>1.0</td><td>1.0</td><td>1.0</td><td>1.0</td><td>1.0</td><td>1.0</td><td>1.0</td><td>&quot;0022400598&quot;</td></tr><tr><td>&quot;240:00&quot;</td><td>50</td><td>95</td><td>0.526</td><td>18</td><td>33</td><td>0.545</td><td>10</td><td>10</td><td>1.0</td><td>12</td><td>37</td><td>49</td><td>35</td><td>8</td><td>6</td><td>11</td><td>12</td><td>128</td><td>21.0</td><td>&quot;240:00&quot;</td><td>41</td><td>91</td><td>0.451</td><td>15</td><td>40</td><td>0.375</td><td>10</td><td>16</td><td>0.625</td><td>13</td><td>31</td><td>44</td><td>28</td><td>4</td><td>5</td><td>14</td><td>&hellip;</td><td>0.683</td><td>0.317</td><td>1.0</td><td>1.0</td><td>1.0</td><td>1.0</td><td>1.0</td><td>1.0</td><td>1.0</td><td>1.0</td><td>1.0</td><td>1.0</td><td>1.0</td><td>1.0</td><td>1.0</td><td>1.0</td><td>1.0</td><td>1.0</td><td>1.0</td><td>1.0</td><td>1.0</td><td>1.0</td><td>1.0</td><td>1.0</td><td>1.0</td><td>1.0</td><td>1.0</td><td>1.0</td><td>1.0</td><td>1.0</td><td>1.0</td><td>1.0</td><td>1.0</td><td>1.0</td><td>1.0</td><td>1.0</td><td>&quot;0022400592&quot;</td></tr><tr><td>&quot;240:00&quot;</td><td>37</td><td>86</td><td>0.43</td><td>7</td><td>33</td><td>0.212</td><td>27</td><td>34</td><td>0.794</td><td>13</td><td>34</td><td>47</td><td>19</td><td>9</td><td>4</td><td>13</td><td>22</td><td>108</td><td>2.0</td><td>&quot;240:00&quot;</td><td>36</td><td>93</td><td>0.387</td><td>14</td><td>43</td><td>0.326</td><td>20</td><td>27</td><td>0.741</td><td>17</td><td>35</td><td>52</td><td>25</td><td>5</td><td>6</td><td>16</td><td>&hellip;</td><td>0.694</td><td>0.306</td><td>1.0</td><td>1.0</td><td>1.0</td><td>1.0</td><td>1.0</td><td>1.0</td><td>1.0</td><td>1.0</td><td>1.0</td><td>1.0</td><td>1.0</td><td>1.0</td><td>1.0</td><td>1.0</td><td>1.0</td><td>1.0</td><td>1.0</td><td>1.0</td><td>1.0</td><td>1.0</td><td>1.0</td><td>1.0</td><td>1.0</td><td>1.0</td><td>1.0</td><td>1.0</td><td>1.0</td><td>1.0</td><td>1.0</td><td>1.0</td><td>1.0</td><td>1.0</td><td>1.0</td><td>1.0</td><td>&quot;0022400601&quot;</td></tr></tbody></table></div>"
      ],
      "text/plain": [
       "shape: (634, 249)\n",
       "┌──────────────┬─────────────────────┬──────────────────────────┬───────────────────────────┬───┬──────────────────────────────┬─────────────────────────────────┬───────────────────────┬────────────┐\n",
       "│ minutes_home ┆ fieldGoalsMade_home ┆ fieldGoalsAttempted_home ┆ fieldGoalsPercentage_home ┆ … ┆ percentagePersonalFouls_away ┆ percentagePersonalFoulsDrawn_a… ┆ percentagePoints_away ┆ game_id    │\n",
       "│ ---          ┆ ---                 ┆ ---                      ┆ ---                       ┆   ┆ ---                          ┆ ---                             ┆ ---                   ┆ ---        │\n",
       "│ str          ┆ i64                 ┆ i64                      ┆ f64                       ┆   ┆ f64                          ┆ f64                             ┆ f64                   ┆ str        │\n",
       "╞══════════════╪═════════════════════╪══════════════════════════╪═══════════════════════════╪═══╪══════════════════════════════╪═════════════════════════════════╪═══════════════════════╪════════════╡\n",
       "│ 240:00       ┆ 48                  ┆ 95                       ┆ 0.505                     ┆ … ┆ 1.0                          ┆ 1.0                             ┆ 1.0                   ┆ 0022400061 │\n",
       "│ 240:00       ┆ 42                  ┆ 95                       ┆ 0.442                     ┆ … ┆ 1.0                          ┆ 1.0                             ┆ 1.0                   ┆ 0022400062 │\n",
       "│ 240:00       ┆ 38                  ┆ 88                       ┆ 0.432                     ┆ … ┆ 1.0                          ┆ 1.0                             ┆ 1.0                   ┆ 0022400063 │\n",
       "│ 240:00       ┆ 39                  ┆ 80                       ┆ 0.487                     ┆ … ┆ 1.0                          ┆ 1.0                             ┆ 1.0                   ┆ 0022400064 │\n",
       "│ 240:00       ┆ 32                  ┆ 82                       ┆ 0.39                      ┆ … ┆ 1.0                          ┆ 1.0                             ┆ 1.0                   ┆ 0022400065 │\n",
       "│ …            ┆ …                   ┆ …                        ┆ …                         ┆ … ┆ …                            ┆ …                               ┆ …                     ┆ …          │\n",
       "│ 240:00       ┆ 43                  ┆ 87                       ┆ 0.494                     ┆ … ┆ 1.0                          ┆ 1.0                             ┆ 1.0                   ┆ 0022400594 │\n",
       "│ 240:00       ┆ 38                  ┆ 102                      ┆ 0.373                     ┆ … ┆ 1.0                          ┆ 1.0                             ┆ 1.0                   ┆ 0022400593 │\n",
       "│ 240:00       ┆ 46                  ┆ 95                       ┆ 0.484                     ┆ … ┆ 1.0                          ┆ 1.0                             ┆ 1.0                   ┆ 0022400598 │\n",
       "│ 240:00       ┆ 50                  ┆ 95                       ┆ 0.526                     ┆ … ┆ 1.0                          ┆ 1.0                             ┆ 1.0                   ┆ 0022400592 │\n",
       "│ 240:00       ┆ 37                  ┆ 86                       ┆ 0.43                      ┆ … ┆ 1.0                          ┆ 1.0                             ┆ 1.0                   ┆ 0022400601 │\n",
       "└──────────────┴─────────────────────┴──────────────────────────┴───────────────────────────┴───┴──────────────────────────────┴─────────────────────────────────┴───────────────────────┴────────────┘"
      ]
     },
     "execution_count": 5,
     "metadata": {},
     "output_type": "execute_result"
    }
   ],
   "source": [
    "pl.read_parquet(\"data/game_list_2024.parquet\")"
   ]
  },
  {
   "cell_type": "code",
   "execution_count": null,
   "id": "ac2cd061-df9a-4069-ae79-e3539850999b",
   "metadata": {},
   "outputs": [
    {
     "name": "stderr",
     "output_type": "stream",
     "text": [
      "100%|████████████████████████████████████████████████████████████████████████████████████████████████████████████████████████████████████████████████████████████████████████████████████████████████████████████████████████████████████████████████████████████████████████████████| 1/1 [00:28<00:00, 28.18s/it]\n",
      "  0%|                                                                                                                                                                                                                                                                                      | 0/818 [00:00<?, ?it/s]"
     ]
    }
   ],
   "source": [
    "importlib.reload(data_collection)\n",
    "if (date.today().year != latest_schedule_file.split('_')[-1].split(\".\")[0]) and date.today().month >= 9:\n",
    "    data_collection.season(\n",
    "        start_date = date.today(),\n",
    "        end_date = date.today() + timedelta(days=1),\n",
    "        file_year = date.today().year,\n",
    "        folder = \"data\"\n",
    "    )\n",
    "else:\n",
    "    data_collection.season(\n",
    "        start_date = newest_date,\n",
    "        end_date = date.today() + timedelta(days=1),\n",
    "        file_year = date.today().year - 1,\n",
    "        folder = \"data\"\n",
    "    )"
   ]
  },
  {
   "cell_type": "code",
   "execution_count": null,
   "id": "31397d6a-9fe9-4ad3-b340-6296bfd075a3",
   "metadata": {},
   "outputs": [],
   "source": []
  }
 ],
 "metadata": {
  "kernelspec": {
   "display_name": "Python 3 (ipykernel)",
   "language": "python",
   "name": "python3"
  },
  "language_info": {
   "codemirror_mode": {
    "name": "ipython",
    "version": 3
   },
   "file_extension": ".py",
   "mimetype": "text/x-python",
   "name": "python",
   "nbconvert_exporter": "python",
   "pygments_lexer": "ipython3",
   "version": "3.12.3"
  }
 },
 "nbformat": 4,
 "nbformat_minor": 5
}
