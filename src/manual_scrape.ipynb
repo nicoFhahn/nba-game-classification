{
 "cells": [
  {
   "cell_type": "code",
   "execution_count": 1,
   "id": "d0142a9d-af49-4b0c-add4-50c79ad20497",
   "metadata": {},
   "outputs": [
    {
     "name": "stderr",
     "output_type": "stream",
     "text": [
      "/Users/nicohahn/Documents/nba-game-classification/nba/lib/python3.12/site-packages/tqdm/auto.py:21: TqdmWarning: IProgress not found. Please update jupyter and ipywidgets. See https://ipywidgets.readthedocs.io/en/stable/user_install.html\n",
      "  from .autonotebook import tqdm as notebook_tqdm\n"
     ]
    }
   ],
   "source": [
    "import os\n",
    "from datetime import timedelta, datetime, date\n",
    "\n",
    "import polars as pl\n",
    "from supabase import create_client\n",
    "from google.cloud import storage, secretmanager\n",
    "\n",
    "from data_wrangling import load_season, record_current_season\n",
    "from elo_rating import elo_season\n",
    "from modelling import lgbm_model\n",
    "from data_collection import (\n",
    "    season,\n",
    "    collect_season_statistics,\n",
    "    collect_season_filtered_table,\n",
    "    collect_all_data,\n",
    "    collect_season_data\n",
    ")"
   ]
  },
  {
   "cell_type": "code",
   "execution_count": 5,
   "id": "ea1865af-9b20-4f66-9045-6d317343c923",
   "metadata": {},
   "outputs": [],
   "source": [
    "import os\n",
    "os.environ[\"GOOGLE_APPLICATION_CREDENTIALS\"] = \"../../cloud-key.json\"\n",
    "secret_client = secretmanager.SecretManagerServiceClient()\n",
    "response = secret_client.access_secret_version(request={'name':'projects/898760610238/secrets/supabase/versions/1'})\n",
    "creds = eval(response.payload.data.decode(\"UTF-8\"))\n",
    "connection = create_client(creds['postgres']['project_url'], creds['postgres']['api_key'])\n",
    "\n",
    "season_dates = pl.DataFrame(connection.table('season').select('*').execute().data).with_columns([\n",
    "    pl.col('all_star_date').str.to_date(),\n",
    "    pl.col('play_in_start').str.to_date(),\n",
    "    pl.col('play_in_end').str.to_date()\n",
    "])\n",
    "res = connection.table('schedule').select('date, season_id').order('date', desc=True).limit(1).execute().data[0]\n",
    "newest_date = datetime.strptime(res['date'], '%Y-%m-%d').date()\n",
    "season_id = res['season_id']"
   ]
  },
  {
   "cell_type": "code",
   "execution_count": 7,
   "id": "800914c8-8e39-4bb8-96bb-848ebc45c86d",
   "metadata": {},
   "outputs": [
    {
     "name": "stdout",
     "output_type": "stream",
     "text": [
      "Collecting Schedule and Boxscores\n"
     ]
    },
    {
     "name": "stderr",
     "output_type": "stream",
     "text": [
      "100%|█████████████████████████████████████████████████████████████████████████████████████████████████████████████████████████████████████████████████████████████████████████████| 3/3 [01:36<00:00, 32.01s/it]\n",
      "100%|██████████████████████████████████████████████████████████████████████████████████████████████████████████████████████████████████████████████████████████████████████████| 16/16 [28:29<00:00, 106.84s/it]\n"
     ]
    }
   ],
   "source": [
    "print('Collecting Schedule and Boxscores')\n",
    "season(\n",
    "    start_date=newest_date,\n",
    "    end_date=newest_date + timedelta(days=3),\n",
    "    connection=connection,\n",
    "    season_id=season_id\n",
    ")"
   ]
  },
  {
   "cell_type": "code",
   "execution_count": 28,
   "id": "23f0c6ea-0154-4b95-8859-2c2620ce1a6a",
   "metadata": {},
   "outputs": [
    {
     "name": "stdout",
     "output_type": "stream",
     "text": [
      "Collecting Season Statistics\n"
     ]
    },
    {
     "name": "stderr",
     "output_type": "stream",
     "text": [
      "100%|███████████████████████████████████████████████████████████████████████████████████████████████████████████████████████████████████████████████████████████████████████████| 30/30 [00:01<00:00, 29.62it/s]\n"
     ]
    }
   ],
   "source": [
    "print('Collecting Season Statistics')\n",
    "season_2024 = load_season(\n",
    "    season_dates.filter(pl.col('season_id') == season_id)['all_star_date'][0],\n",
    "    season_dates.filter(pl.col('season_id') == season_id)['play_in_start'][0],\n",
    "    season_dates.filter(pl.col('season_id') == season_id)['play_in_end'][0],\n",
    "    connection=connection,\n",
    "    season_id=season_id\n",
    ")\n",
    "previous_df, recent_games_df, remainder_df, season_df = collect_season_statistics(season_id, connection)\n",
    "new_data_1 = season_2024.filter(~pl.col('game_id').is_in(previous_df['game_id'])).select(previous_df.columns)\n",
    "new_data_2 = season_2024.filter(~pl.col('game_id').is_in(recent_games_df['game_id'])).select(recent_games_df.columns)\n",
    "new_data_3 = season_2024.filter(~pl.col('game_id').is_in(remainder_df['game_id'])).select(remainder_df.columns)\n",
    "new_data_4 = season_2024.filter(~pl.col('game_id').is_in(season_df['game_id'])).select(season_df.columns)"
   ]
  },
  {
   "cell_type": "code",
   "execution_count": 29,
   "id": "bdb6e4f4-688d-4a90-a678-757433633ca7",
   "metadata": {},
   "outputs": [],
   "source": [
    "update_date = remainder_df[[\"game_id\", \"is_home_win\"]].join(\n",
    "    season_2024[[\"game_id\", \"date\", \"is_home_win\"]],\n",
    "    on=\"game_id\"\n",
    ").filter(\n",
    "    pl.col(\"is_home_win\").is_null() & (pl.col(\"is_home_win_right\").is_not_null())\n",
    ")[\"date\"].min()\n",
    "update_data_1 = season_2024.filter(\n",
    "    (pl.col(\"date\") >= update_date) & (~pl.col(\"game_id\").is_in(new_data_1[\"game_id\"]))\n",
    ").drop_nulls(\n",
    "    [\"fieldGoalsMade_previous_game_home_team\", \"fieldGoalsMade_previous_game_away_team\"]\n",
    ").select(previous_df.columns)\n",
    "update_data_2 = season_2024.filter(\n",
    "    (pl.col(\"date\") >= update_date) & (~pl.col(\"game_id\").is_in(new_data_2[\"game_id\"]))\n",
    ").select(recent_games_df.columns)\n",
    "update_data_3 = season_2024.filter(\n",
    "    (pl.col(\"date\") >= update_date) & (~pl.col(\"game_id\").is_in(new_data_3[\"game_id\"]))\n",
    ").select(remainder_df.columns)\n",
    "update_data_4 = season_2024.filter(\n",
    "    (pl.col(\"date\") >= update_date) & (~pl.col(\"game_id\").is_in(new_data_4[\"game_id\"]))\n",
    ").drop_nulls(\n",
    "   [\"fieldGoalsMade_109_home_team\", \"fieldGoalsMade_109_away_team\"]\n",
    ").select(season_df.columns)"
   ]
  },
  {
   "cell_type": "code",
   "execution_count": 31,
   "id": "78a88e33-cfb5-4140-8325-b913a0646fbc",
   "metadata": {},
   "outputs": [],
   "source": [
    "if new_data_1.shape[0] > 0:\n",
    "    response = (\n",
    "        connection.table('statistics_previous').insert(\n",
    "            new_data_1.to_dicts()\n",
    "        ).execute()\n",
    "    )\n",
    "if new_data_2.shape[0] > 0:\n",
    "    response = (\n",
    "        connection.table('statistics_recent_games').insert(\n",
    "            new_data_2.to_dicts()\n",
    "        ).execute()\n",
    "    )\n",
    "if new_data_3.shape[0] > 0:\n",
    "    response = (\n",
    "        connection.table('statistics_remainder').insert(\n",
    "            new_data_3.to_dicts()\n",
    "        ).execute()\n",
    "    )\n",
    "if new_data_4.shape[0] > 0:\n",
    "    response = (\n",
    "        connection.table('statistics_season').insert(\n",
    "            new_data_4.to_dicts()\n",
    "        ).execute()\n",
    "    )\n",
    "\n",
    "if update_data_1.shape[0] > 0:\n",
    "    response = (\n",
    "        connection.table('statistics_previous').upsert(\n",
    "            update_data_1.to_dicts()\n",
    "        ).execute()\n",
    "    )\n",
    "if update_data_2.shape[0] > 0:\n",
    "    response = (\n",
    "        connection.table('statistics_recent_games').upsert(\n",
    "            update_data_2.to_dicts()\n",
    "        ).execute()\n",
    "    )\n",
    "if update_data_3.shape[0] > 0:\n",
    "    response = (\n",
    "        connection.table('statistics_remainder').upsert(\n",
    "            update_data_3.to_dicts()\n",
    "        ).execute()\n",
    "    )\n",
    "if update_data_4.shape[0] > 0:\n",
    "    response = (\n",
    "        connection.table('statistics_season').upsert(\n",
    "            update_data_4.to_dicts()\n",
    "        ).execute()\n",
    "    )"
   ]
  },
  {
   "cell_type": "code",
   "execution_count": 32,
   "id": "861a8b86-519e-4ec4-833d-57302bd81de1",
   "metadata": {},
   "outputs": [
    {
     "name": "stderr",
     "output_type": "stream",
     "text": [
      "100%|███████████████████████████████████████████████████████████████████████████████████████████████████████████████████████████████████████████████████████████████████████████| 30/30 [00:01<00:00, 29.67it/s]\n"
     ]
    }
   ],
   "source": [
    "h2h_current_year = load_season(\n",
    "    season_dates.filter(pl.col('season_id') == season_id)['all_star_date'][0],\n",
    "    season_dates.filter(pl.col('season_id') == season_id)['play_in_start'][0],\n",
    "    season_dates.filter(pl.col('season_id') == season_id)['play_in_end'][0],\n",
    "    connection=connection,\n",
    "    season_id=season_id,\n",
    "    return_h2h=True\n",
    ")\n",
    "h2h_supabase = collect_season_filtered_table(season_id, 'h2h', connection)\n",
    "new_data_5  = h2h_current_year.filter(~pl.col('game_id').is_in(h2h_supabase['game_id'])).to_dicts()"
   ]
  },
  {
   "cell_type": "code",
   "execution_count": 35,
   "id": "58e1001c-4f6a-4366-b5aa-180e3b113bb6",
   "metadata": {},
   "outputs": [],
   "source": [
    "if len(new_data_5) > 0:\n",
    "    response = (\n",
    "        connection.table('h2h').insert(\n",
    "            new_data_5\n",
    "        ).execute()\n",
    "    )\n",
    "rec_current_year = record_current_season(\n",
    "    season_dates.filter(pl.col('season_id') == season_id)['all_star_date'][0],\n",
    "    season_dates.filter(pl.col('season_id') == season_id)['play_in_start'][0],\n",
    "    season_dates.filter(pl.col('season_id') == season_id)['play_in_end'][0],\n",
    "    connection=connection,\n",
    "    season_id=season_id,\n",
    ").drop_nulls('games_this_year_home_team')\n",
    "rec_current_year_supabase = collect_season_filtered_table(season_id, 'record', connection)\n",
    "schedule = collect_season_data(season_id, 'schedule', connection)\n",
    "new_data_6 = rec_current_year.filter(\n",
    "    ~pl.col('game_id').is_in(rec_current_year_supabase['game_id'])\n",
    ").join(\n",
    "    schedule[[\"game_id\", \"date\"]],\n",
    "    on=\"game_id\"\n",
    ").filter(\n",
    "    pl.col(\"date\").str.to_date() <= date.today()\n",
    ").drop(\"date\").to_dicts()"
   ]
  },
  {
   "cell_type": "code",
   "execution_count": null,
   "id": "7d4f257d-c430-49bc-a86f-0711a70d8e74",
   "metadata": {},
   "outputs": [],
   "source": [
    "if len(new_data_6) > 0:\n",
    "    response = (\n",
    "        connection.table('record').insert(\n",
    "            new_data_6\n",
    "        ).execute()\n",
    "    )\n",
    "update_data_6 = rec_current_year.join(\n",
    "    rec_current_year_supabase[[\"game_id\", \"points_home\"]],\n",
    "    on=\"game_id\"\n",
    ").filter(\n",
    "    pl.col(\"points_home\").is_not_null() & pl.col(\"points_home_right\").is_null()\n",
    ").drop(\"points_home_right\").to_dicts()\n",
    "if len(update_data_6) > 0:\n",
    "    response = (\n",
    "        connection.table('record').upsert(\n",
    "            update_data_6\n",
    "        ).execute()\n",
    "    )"
   ]
  },
  {
   "cell_type": "code",
   "execution_count": 42,
   "id": "992239a4-8443-416a-8229-a132a5d6192e",
   "metadata": {},
   "outputs": [],
   "source": [
    "df_list = []\n",
    "for s_id in season_dates['season_id']:\n",
    "    if s_id == season_id:\n",
    "        df_list.append(rec_current_year)\n",
    "    else:\n",
    "        df_list.append(\n",
    "            collect_season_filtered_table(s_id, 'record', connection)\n",
    "        )\n",
    "df_list = [\n",
    "    rec_current_year if s_id == season_id else collect_season_filtered_table(s_id, 'record', connection)\n",
    "    for s_id in season_dates['season_id']\n",
    "]\n",
    "schedule_df = collect_all_data('schedule', connection)\n",
    "df_list = [df.join(schedule_df, on='game_id').drop('season_id') for df in df_list]\n",
    "df_list[-1] = df_list[-1][df_list[0].columns]\n",
    "elo_df_list = []\n",
    "for i in range(len(df_list)):\n",
    "    if i == 0:\n",
    "        elo_df_list.append(\n",
    "            elo_season(df_list[i])\n",
    "        )\n",
    "    else:\n",
    "        elo_df_list.append(\n",
    "            elo_season(df_list[i].drop_nulls('points_home'), elo_df_list[i - 1])\n",
    "        )\n",
    "elo_df = pl.concat(elo_df_list)\n",
    "elo_df_supabase = collect_all_data('elo', connection)\n",
    "new_data_7 = elo_df.join(\n",
    "    elo_df_supabase[['game_id', 'team_id', 'elo_before']],\n",
    "    on=['game_id', 'team_id'],\n",
    "    how='left'\n",
    ").filter(pl.col('elo_before_right').is_null()).drop('elo_before_right').to_dicts()"
   ]
  },
  {
   "cell_type": "code",
   "execution_count": 44,
   "id": "09472bdd-f145-409a-87d6-c46aa2b64d35",
   "metadata": {},
   "outputs": [],
   "source": [
    "if len(new_data_7) > 0:\n",
    "    response = (\n",
    "        connection.table('elo').insert(\n",
    "            new_data_7\n",
    "        ).execute()\n",
    "    )"
   ]
  },
  {
   "cell_type": "code",
   "execution_count": 45,
   "id": "0f80faa6-153f-4768-9fd1-f4d11ad3d11b",
   "metadata": {},
   "outputs": [],
   "source": [
    "client = storage.Client()\n",
    "bucket = client.get_bucket(\"lgbm\")\n",
    "mod = lgbm_model(\n",
    "    connection = connection,\n",
    "    bucket = bucket,\n",
    "    data_origin=\"supabase\"\n",
    ")\n",
    "mod.load_model()"
   ]
  },
  {
   "cell_type": "code",
   "execution_count": 54,
   "id": "318a2bce-ced3-4922-a1f7-1ae78283eaaf",
   "metadata": {},
   "outputs": [
    {
     "name": "stdout",
     "output_type": "stream",
     "text": [
      "Downloaded newest matching file: lgbm_evaluation_february_2025.json to lgbm_evaluation_february_2025.json\n",
      "7 predictions added\n"
     ]
    }
   ],
   "source": [
    "mod.predict()"
   ]
  },
  {
   "cell_type": "code",
   "execution_count": 48,
   "id": "56718b6e-335a-4aef-b0f1-98966c66a630",
   "metadata": {},
   "outputs": [
    {
     "name": "stdout",
     "output_type": "stream",
     "text": [
      "Downloaded newest matching file: lgbm_evaluation_february_2025.json to lgbm_evaluation_february_2025.json\n"
     ]
    }
   ],
   "source": [
    "best_features, cutoff_date = self.load_best_features()\n",
    "previous_predictions = collect_all_data('predictions', self.connection)"
   ]
  },
  {
   "cell_type": "code",
   "execution_count": 49,
   "id": "7836c857-4091-4855-97f7-f3c606d4bb0e",
   "metadata": {},
   "outputs": [
    {
     "data": {
      "text/plain": [
       "datetime.date(2025, 3, 2)"
      ]
     },
     "execution_count": 49,
     "metadata": {},
     "output_type": "execute_result"
    }
   ],
   "source": [
    "cutoff_date = self.full_data.join(\n",
    "    previous_predictions,\n",
    "    on='game_id',\n",
    "    how='inner'\n",
    ")['date'].max()\n",
    "X_new = self.full_data.to_dummies([\n",
    "    'game_type', 'month', 'weekday'\n",
    "]).filter(\n",
    "    (pl.col('date') >= cutoff_date) &\n",
    "    (pl.col('is_home_win').is_not_null()) &\n",
    "    (~pl.col('game_id').is_in(previous_predictions['game_id']))\n",
    ")"
   ]
  },
  {
   "cell_type": "code",
   "execution_count": 53,
   "id": "bfffcecf-fed1-4284-a395-51534af7fb5b",
   "metadata": {},
   "outputs": [
    {
     "data": {
      "text/html": [
       "<div><style>\n",
       ".dataframe > thead > tr,\n",
       ".dataframe > tbody > tr {\n",
       "  text-align: right;\n",
       "  white-space: pre-wrap;\n",
       "}\n",
       "</style>\n",
       "<small>shape: (7, 3)</small><table border=\"1\" class=\"dataframe\"><thead><tr><th>game_id</th><th>probability</th><th>is_home_win</th></tr><tr><td>str</td><td>f64</td><td>bool</td></tr></thead><tbody><tr><td>&quot;0022400881&quot;</td><td>0.022659</td><td>false</td></tr><tr><td>&quot;0022400879&quot;</td><td>0.447127</td><td>false</td></tr><tr><td>&quot;0022400877&quot;</td><td>0.994281</td><td>true</td></tr><tr><td>&quot;0022400876&quot;</td><td>0.304303</td><td>false</td></tr><tr><td>&quot;0022400875&quot;</td><td>0.185216</td><td>false</td></tr><tr><td>&quot;0022400880&quot;</td><td>0.05036</td><td>false</td></tr><tr><td>&quot;0022400878&quot;</td><td>0.982777</td><td>true</td></tr></tbody></table></div>"
      ],
      "text/plain": [
       "shape: (7, 3)\n",
       "┌────────────┬─────────────┬─────────────┐\n",
       "│ game_id    ┆ probability ┆ is_home_win │\n",
       "│ ---        ┆ ---         ┆ ---         │\n",
       "│ str        ┆ f64         ┆ bool        │\n",
       "╞════════════╪═════════════╪═════════════╡\n",
       "│ 0022400881 ┆ 0.022659    ┆ false       │\n",
       "│ 0022400879 ┆ 0.447127    ┆ false       │\n",
       "│ 0022400877 ┆ 0.994281    ┆ true        │\n",
       "│ 0022400876 ┆ 0.304303    ┆ false       │\n",
       "│ 0022400875 ┆ 0.185216    ┆ false       │\n",
       "│ 0022400880 ┆ 0.05036     ┆ false       │\n",
       "│ 0022400878 ┆ 0.982777    ┆ true        │\n",
       "└────────────┴─────────────┴─────────────┘"
      ]
     },
     "execution_count": 53,
     "metadata": {},
     "output_type": "execute_result"
    }
   ],
   "source": [
    "game_ids = X_new['game_id']\n",
    "X_new = X_new.select(best_features).drop('date')\n",
    "predictions = self.model.predict(X_new.to_numpy())\n",
    "prediction_df = pl.DataFrame({\n",
    "    'game_id': game_ids,\n",
    "    'probability': predictions,\n",
    "    'is_home_win': predictions >= 0.5\n",
    "})\n",
    "prediction_df"
   ]
  }
 ],
 "metadata": {
  "kernelspec": {
   "display_name": "Python 3 (ipykernel)",
   "language": "python",
   "name": "python3"
  },
  "language_info": {
   "codemirror_mode": {
    "name": "ipython",
    "version": 3
   },
   "file_extension": ".py",
   "mimetype": "text/x-python",
   "name": "python",
   "nbconvert_exporter": "python",
   "pygments_lexer": "ipython3",
   "version": "3.12.6"
  }
 },
 "nbformat": 4,
 "nbformat_minor": 5
}
