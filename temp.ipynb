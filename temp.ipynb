{
 "cells": [
  {
   "cell_type": "code",
   "execution_count": 80,
   "id": "c21a1a5e-99a4-4d43-bd0a-ac09ec0436ff",
   "metadata": {},
   "outputs": [
    {
     "data": {
      "text/plain": [
       "<module 'src.data_wrangling' from 'C:\\\\Users\\\\nico.hahn\\\\Documents\\\\GitHub\\\\nba-game-classification\\\\src\\\\data_wrangling.py'>"
      ]
     },
     "execution_count": 80,
     "metadata": {},
     "output_type": "execute_result"
    }
   ],
   "source": [
    "import importlib\n",
    "import polars as pl\n",
    "import polars.selectors as cs\n",
    "from datetime import date, timedelta\n",
    "from src import data_wrangling\n",
    "from tqdm import tqdm\n",
    "importlib.reload(data_wrangling)"
   ]
  },
  {
   "cell_type": "code",
   "execution_count": 81,
   "id": "ee4819b4-95be-4288-be7a-4a310bdc0d10",
   "metadata": {},
   "outputs": [],
   "source": [
    "df_2020 = data_wrangling.load_schedule(\n",
    "    date(2021, 3, 7), date(2021, 5, 18), date(2021, 5, 21),\n",
    "    \"schedule_2020.parquet\", \"game_list_2020.parquet\"\n",
    ")\n",
    "df_2021 = data_wrangling.load_schedule(\n",
    "    date(2022, 2, 20), date(2022, 4, 12), date(2022, 4, 15),\n",
    "    \"schedule_2021.parquet\", \"game_list_2021.parquet\"\n",
    ")"
   ]
  },
  {
   "cell_type": "code",
   "execution_count": 82,
   "id": "2233d695-13fb-4b80-8b04-23fbb1bd356d",
   "metadata": {},
   "outputs": [],
   "source": [
    "team_schedules_2020 = data_wrangling.get_team_schedules(df_2020)\n",
    "team_schedules_2021 = data_wrangling.get_team_schedules(df_2021)"
   ]
  },
  {
   "cell_type": "code",
   "execution_count": 83,
   "id": "77986a58-3edd-4b23-9c83-ffeb05faff3e",
   "metadata": {},
   "outputs": [],
   "source": [
    "team_ids_2020 = list(set(df_2020[\"home_team_id\"]))\n",
    "team_ids_2021 = list(set(df_2021[\"home_team_id\"]))\n",
    "team_boxscores_2020 = [data_wrangling.team_boxscore(team_schedules_2020[i], team_ids_2020[i]) for i in range(len(team_ids_2020))]\n",
    "team_boxscores_2021 = [data_wrangling.team_boxscore(team_schedules_2021[i], team_ids_2021[i]) for i in range(len(team_ids_2021))]"
   ]
  },
  {
   "cell_type": "code",
   "execution_count": 84,
   "id": "63db6836-f28b-4db2-9be5-399b66a25c84",
   "metadata": {},
   "outputs": [
    {
     "name": "stderr",
     "output_type": "stream",
     "text": [
      "100%|█████████████████████████████████████████████████████████████████████████████████████████████████████████████████████████████████████████████████████████████████████████████████████████████████████████████████████████████████████████████████████████████████████████████| 30/30 [00:04<00:00,  7.48it/s]\n",
      "100%|█████████████████████████████████████████████████████████████████████████████████████████████████████████████████████████████████████████████████████████████████████████████████████████████████████████████████████████████████████████████████████████████████████████████| 30/30 [00:04<00:00,  6.70it/s]\n"
     ]
    }
   ],
   "source": [
    "team_stats_season_2020 = [data_wrangling.team_season_stats(team) for team in tqdm(team_boxscores_2020)]\n",
    "team_stats_season_2021 = [data_wrangling.team_season_stats(team) for team in tqdm(team_boxscores_2021)]"
   ]
  },
  {
   "cell_type": "code",
   "execution_count": 85,
   "id": "80f54266-c317-490a-ba2b-0824b3d9f1f0",
   "metadata": {},
   "outputs": [],
   "source": [
    "df_2021 = data_wrangling.head_to_head(\n",
    "  df_2021, df_2020\n",
    ")"
   ]
  },
  {
   "cell_type": "code",
   "execution_count": 86,
   "id": "9c06346e-a55c-4d8f-b725-b2c19682f640",
   "metadata": {},
   "outputs": [],
   "source": [
    "df_2021 = data_wrangling.merge_schedule_with_team_stats(\n",
    "  df_2021, team_stats_season_2021\n",
    ")"
   ]
  }
 ],
 "metadata": {
  "kernelspec": {
   "display_name": "Python 3 (ipykernel)",
   "language": "python",
   "name": "python3"
  },
  "language_info": {
   "codemirror_mode": {
    "name": "ipython",
    "version": 3
   },
   "file_extension": ".py",
   "mimetype": "text/x-python",
   "name": "python",
   "nbconvert_exporter": "python",
   "pygments_lexer": "ipython3",
   "version": "3.11.0"
  }
 },
 "nbformat": 4,
 "nbformat_minor": 5
}
